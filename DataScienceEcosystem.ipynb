{
 "cells": [
  {
   "cell_type": "markdown",
   "id": "47959aaf-ea0c-4f9a-a06f-222397d5b883",
   "metadata": {},
   "source": [
    "# Data Science Tools and Ecosystem"
   ]
  },
  {
   "cell_type": "markdown",
   "id": "b43b6a75-f892-40b6-943e-e2b611f238b2",
   "metadata": {},
   "source": [
    "In this notebook, Data Science Tools and Ecosystem are summarized."
   ]
  },
  {
   "cell_type": "markdown",
   "id": "5b605cae-832d-4420-801f-606f07b27fd0",
   "metadata": {},
   "source": [
    "**Objectives:** \n",
    "\n",
    "-List popular languages for Data Science \n",
    "-List Data Science Libraries \n",
    "-List Data Science Tools"
   ]
  },
  {
   "cell_type": "markdown",
   "id": "a4d86aeb-8874-4289-b366-60a1e58cf2c6",
   "metadata": {},
   "source": [
    "Some of the popular languages that Data Scientists use are:\n",
    "1. Python\n",
    "2. R\n",
    "3. SQL"
   ]
  },
  {
   "cell_type": "markdown",
   "id": "a965afa4-f0a3-4e91-834a-1fa9e9330b92",
   "metadata": {},
   "source": [
    "Some of the commonly used libraries used by Data Scientists include:\n",
    "1. Numpy\n",
    "2. Scipy\n",
    "3. Tensorflow\n",
    "4. Pandas\n",
    "5. Scikit-learn"
   ]
  },
  {
   "cell_type": "markdown",
   "id": "9ec0c475-2e09-4631-9cef-bc5c33c62ec4",
   "metadata": {},
   "source": [
    "|Data Science Tools|\n",
    "|------------------|\n",
    "|Jupyter|\n",
    "|R|\n",
    "|Spyder|"
   ]
  },
  {
   "cell_type": "markdown",
   "id": "7ecd931d-0353-4ff1-a45a-9fd25dbc5ecf",
   "metadata": {},
   "source": [
    "### Below are a few examples of evaluating arithmetic expressions in Python"
   ]
  },
  {
   "cell_type": "code",
   "execution_count": 4,
   "id": "cc1aaa0f-1e31-4903-80b6-0890671e841d",
   "metadata": {},
   "outputs": [
    {
     "data": {
      "text/plain": [
       "17"
      ]
     },
     "execution_count": 4,
     "metadata": {},
     "output_type": "execute_result"
    }
   ],
   "source": [
    "# This a simple arithmetic expression to multiply then add integers\n",
    "(3*4)+5"
   ]
  },
  {
   "cell_type": "code",
   "execution_count": 5,
   "id": "7356e96e-2f4b-4c4c-b677-026fc8892293",
   "metadata": {},
   "outputs": [
    {
     "data": {
      "text/plain": [
       "3.3333333333333335"
      ]
     },
     "execution_count": 5,
     "metadata": {},
     "output_type": "execute_result"
    }
   ],
   "source": [
    "# This will convert 200 minutes to hours by diving by 60\n",
    "hours = 200 / 60\n",
    "hours"
   ]
  },
  {
   "cell_type": "markdown",
   "id": "c76cb7d9-467c-4e2f-aea7-0c8e9aac1aee",
   "metadata": {},
   "source": [
    "## Author\n",
    "Aishat Ayomide Gbadamosi"
   ]
  },
  {
   "cell_type": "code",
   "execution_count": null,
   "id": "42253598-7ba4-412f-af43-9d72d929d414",
   "metadata": {},
   "outputs": [],
   "source": []
  }
 ],
 "metadata": {
  "kernelspec": {
   "display_name": "Python 3 (ipykernel)",
   "language": "python",
   "name": "python3"
  },
  "language_info": {
   "codemirror_mode": {
    "name": "ipython",
    "version": 3
   },
   "file_extension": ".py",
   "mimetype": "text/x-python",
   "name": "python",
   "nbconvert_exporter": "python",
   "pygments_lexer": "ipython3",
   "version": "3.12.8"
  }
 },
 "nbformat": 4,
 "nbformat_minor": 5
}
